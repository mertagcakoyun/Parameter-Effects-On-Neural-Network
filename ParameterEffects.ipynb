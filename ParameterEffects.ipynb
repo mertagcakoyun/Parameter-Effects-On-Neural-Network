{
 "cells": [
  {
   "cell_type": "code",
   "execution_count": 1,
   "metadata": {},
   "outputs": [],
   "source": [
    "from sklearn.model_selection import train_test_split\n",
    "from sklearn.neural_network import MLPClassifier"
   ]
  },
  {
   "cell_type": "code",
   "execution_count": 12,
   "metadata": {},
   "outputs": [
    {
     "name": "stdout",
     "output_type": "stream",
     "text": [
      "[[0. 0. 0. ... 0. 0. 0.]\n",
      " [0. 0. 0. ... 0. 0. 0.]\n",
      " [0. 0. 0. ... 0. 0. 0.]\n",
      " ...\n",
      " [0. 0. 0. ... 0. 0. 0.]\n",
      " [0. 0. 0. ... 0. 0. 0.]\n",
      " [0. 0. 0. ... 0. 0. 0.]]\n",
      "['5' '0' '4' ... '4' '5' '6']\n"
     ]
    }
   ],
   "source": [
    "from sklearn.datasets import fetch_openml\n",
    "X, y = fetch_openml('mnist_784', version=1, return_X_y=True)\n",
    "X = X / 255\n"
   ]
  },
  {
   "cell_type": "code",
   "execution_count": 20,
   "metadata": {},
   "outputs": [
    {
     "data": {
      "text/plain": [
       "array(['5', '0', '4', ..., '4', '5', '6'], dtype=object)"
      ]
     },
     "execution_count": 20,
     "metadata": {},
     "output_type": "execute_result"
    }
   ],
   "source": [
    "y"
   ]
  },
  {
   "cell_type": "code",
   "execution_count": 4,
   "metadata": {},
   "outputs": [
    {
     "name": "stdout",
     "output_type": "stream",
     "text": [
      "train_score:0.9945904761904761\n",
      "test_score:0.9710285714285715\n"
     ]
    }
   ],
   "source": [
    "X_train, X_test, y_train, y_test = train_test_split(X, y, stratify=y, random_state=42)\n",
    "#default values : hidden_layer_sizes = [10], activation = relu\n",
    "mlp = MLPClassifier()\n",
    "mlp.fit(X_train, y_train)\n",
    "print(\"train_score:{}\".format(mlp.score(X_train, y_train)))\n",
    "print(\"test_score:{}\".format(mlp.score(X_test, y_test)))  "
   ]
  },
  {
   "cell_type": "code",
   "execution_count": 5,
   "metadata": {},
   "outputs": [
    {
     "name": "stderr",
     "output_type": "stream",
     "text": [
      "/Users/mertagcakoyun/anaconda3/lib/python3.6/site-packages/sklearn/neural_network/_multilayer_perceptron.py:470: ConvergenceWarning: lbfgs failed to converge (status=1):\n",
      "STOP: TOTAL NO. of ITERATIONS REACHED LIMIT.\n",
      "\n",
      "Increase the number of iterations (max_iter) or scale the data as shown in:\n",
      "    https://scikit-learn.org/stable/modules/preprocessing.html\n",
      "  self.n_iter_ = _check_optimize_result(\"lbfgs\", opt_res, self.max_iter)\n"
     ]
    },
    {
     "name": "stdout",
     "output_type": "stream",
     "text": [
      "For activation function' logistic '(has 1 layer that includes 10 units)\n",
      "train_score:0.9575428571428571\n",
      "test_score:0.9256\n",
      "\n"
     ]
    },
    {
     "name": "stderr",
     "output_type": "stream",
     "text": [
      "/Users/mertagcakoyun/anaconda3/lib/python3.6/site-packages/sklearn/neural_network/_multilayer_perceptron.py:470: ConvergenceWarning: lbfgs failed to converge (status=1):\n",
      "STOP: TOTAL NO. of ITERATIONS REACHED LIMIT.\n",
      "\n",
      "Increase the number of iterations (max_iter) or scale the data as shown in:\n",
      "    https://scikit-learn.org/stable/modules/preprocessing.html\n",
      "  self.n_iter_ = _check_optimize_result(\"lbfgs\", opt_res, self.max_iter)\n"
     ]
    },
    {
     "name": "stdout",
     "output_type": "stream",
     "text": [
      "For activation function' tanh '(has 1 layer that includes 10 units)\n",
      "train_score:0.9603238095238095\n",
      "test_score:0.9269714285714286\n",
      "\n",
      "For activation function' relu '(has 1 layer that includes 10 units)\n",
      "train_score:0.9147809523809524\n",
      "test_score:0.9028571428571428\n",
      "\n"
     ]
    },
    {
     "name": "stderr",
     "output_type": "stream",
     "text": [
      "/Users/mertagcakoyun/anaconda3/lib/python3.6/site-packages/sklearn/neural_network/_multilayer_perceptron.py:470: ConvergenceWarning: lbfgs failed to converge (status=1):\n",
      "STOP: TOTAL NO. of ITERATIONS REACHED LIMIT.\n",
      "\n",
      "Increase the number of iterations (max_iter) or scale the data as shown in:\n",
      "    https://scikit-learn.org/stable/modules/preprocessing.html\n",
      "  self.n_iter_ = _check_optimize_result(\"lbfgs\", opt_res, self.max_iter)\n"
     ]
    }
   ],
   "source": [
    "#The effect of different choices of activation function\n",
    "activationFunctions=['logistic', 'tanh', 'relu']\n",
    "\n",
    "for function in activationFunctions:\n",
    "     mlp = MLPClassifier(solver='lbfgs', activation=function, random_state=0, hidden_layer_sizes=[10])\n",
    "     mlp.fit(X_train,y_train) \n",
    "     print(\"For activation function'\",function,\"'(has 1 layer that includes 10 units)\")\n",
    "     print(\"train_score:{}\".format(mlp.score(X_train, y_train)))\n",
    "     print(\"test_score:{}\".format(mlp.score(X_test, y_test)))\n",
    "     print()\n",
    "        "
   ]
  },
  {
   "cell_type": "code",
   "execution_count": 6,
   "metadata": {},
   "outputs": [
    {
     "name": "stderr",
     "output_type": "stream",
     "text": [
      "/Users/mertagcakoyun/anaconda3/lib/python3.6/site-packages/sklearn/neural_network/_multilayer_perceptron.py:470: ConvergenceWarning: lbfgs failed to converge (status=1):\n",
      "STOP: TOTAL NO. of ITERATIONS REACHED LIMIT.\n",
      "\n",
      "Increase the number of iterations (max_iter) or scale the data as shown in:\n",
      "    https://scikit-learn.org/stable/modules/preprocessing.html\n",
      "  self.n_iter_ = _check_optimize_result(\"lbfgs\", opt_res, self.max_iter)\n"
     ]
    },
    {
     "name": "stdout",
     "output_type": "stream",
     "text": [
      "For 0.01 alpha value\n",
      "train_score:0.914952380952381\n",
      "test_score:0.9028571428571428\n",
      "\n"
     ]
    },
    {
     "name": "stderr",
     "output_type": "stream",
     "text": [
      "/Users/mertagcakoyun/anaconda3/lib/python3.6/site-packages/sklearn/neural_network/_multilayer_perceptron.py:470: ConvergenceWarning: lbfgs failed to converge (status=1):\n",
      "STOP: TOTAL NO. of ITERATIONS REACHED LIMIT.\n",
      "\n",
      "Increase the number of iterations (max_iter) or scale the data as shown in:\n",
      "    https://scikit-learn.org/stable/modules/preprocessing.html\n",
      "  self.n_iter_ = _check_optimize_result(\"lbfgs\", opt_res, self.max_iter)\n"
     ]
    },
    {
     "name": "stdout",
     "output_type": "stream",
     "text": [
      "For 0.1 alpha value\n",
      "train_score:0.9143619047619047\n",
      "test_score:0.9039428571428572\n",
      "\n"
     ]
    },
    {
     "name": "stderr",
     "output_type": "stream",
     "text": [
      "/Users/mertagcakoyun/anaconda3/lib/python3.6/site-packages/sklearn/neural_network/_multilayer_perceptron.py:470: ConvergenceWarning: lbfgs failed to converge (status=1):\n",
      "STOP: TOTAL NO. of ITERATIONS REACHED LIMIT.\n",
      "\n",
      "Increase the number of iterations (max_iter) or scale the data as shown in:\n",
      "    https://scikit-learn.org/stable/modules/preprocessing.html\n",
      "  self.n_iter_ = _check_optimize_result(\"lbfgs\", opt_res, self.max_iter)\n"
     ]
    },
    {
     "name": "stdout",
     "output_type": "stream",
     "text": [
      "For 1.0 alpha value\n",
      "train_score:0.9150857142857143\n",
      "test_score:0.9029714285714285\n",
      "\n",
      "For 5.0 alpha value\n",
      "train_score:0.9155619047619048\n",
      "test_score:0.9030857142857143\n",
      "\n"
     ]
    },
    {
     "name": "stderr",
     "output_type": "stream",
     "text": [
      "/Users/mertagcakoyun/anaconda3/lib/python3.6/site-packages/sklearn/neural_network/_multilayer_perceptron.py:470: ConvergenceWarning: lbfgs failed to converge (status=1):\n",
      "STOP: TOTAL NO. of ITERATIONS REACHED LIMIT.\n",
      "\n",
      "Increase the number of iterations (max_iter) or scale the data as shown in:\n",
      "    https://scikit-learn.org/stable/modules/preprocessing.html\n",
      "  self.n_iter_ = _check_optimize_result(\"lbfgs\", opt_res, self.max_iter)\n"
     ]
    }
   ],
   "source": [
    "# The effect of Regularization parameter: alpha\n",
    "alphaValues=[0.01, 0.1, 1.0, 5.0]\n",
    "for alphaValue in alphaValues:\n",
    "    mlp=MLPClassifier(solver='lbfgs', alpha = alphaValue,\n",
    "                      hidden_layer_sizes = [10],random_state = 0)\n",
    "    mlp.fit(X_train, y_train)\n",
    "    print(\"For\", alphaValue, \"alpha value\")\n",
    "    print(\"train_score:{}\".format(mlp.score(X_train, y_train)))\n",
    "    print(\"test_score:{}\".format(mlp.score(X_test, y_test)))\n",
    "    print()"
   ]
  },
  {
   "cell_type": "code",
   "execution_count": 7,
   "metadata": {},
   "outputs": [
    {
     "name": "stdout",
     "output_type": "stream",
     "text": [
      "For 1  hidden unit/s\n",
      "train_score:0.11253333333333333\n",
      "test_score:0.11251428571428572\n",
      "\n"
     ]
    },
    {
     "name": "stderr",
     "output_type": "stream",
     "text": [
      "/Users/mertagcakoyun/anaconda3/lib/python3.6/site-packages/sklearn/neural_network/_multilayer_perceptron.py:470: ConvergenceWarning: lbfgs failed to converge (status=1):\n",
      "STOP: TOTAL NO. of ITERATIONS REACHED LIMIT.\n",
      "\n",
      "Increase the number of iterations (max_iter) or scale the data as shown in:\n",
      "    https://scikit-learn.org/stable/modules/preprocessing.html\n",
      "  self.n_iter_ = _check_optimize_result(\"lbfgs\", opt_res, self.max_iter)\n"
     ]
    },
    {
     "name": "stdout",
     "output_type": "stream",
     "text": [
      "For 10  hidden unit/s\n",
      "train_score:0.9147809523809524\n",
      "test_score:0.9028571428571428\n",
      "\n",
      "For 100  hidden unit/s\n",
      "train_score:1.0\n",
      "test_score:0.9752571428571428\n",
      "\n"
     ]
    }
   ],
   "source": [
    "#The effetcts of number of hidden unit\n",
    "hiddenUnits=[1, 10, 100]\n",
    "for unit in hiddenUnits:\n",
    "    mlp = MLPClassifier(solver='lbfgs',hidden_layer_sizes = [unit],\n",
    "                         random_state = 0).fit(X_train, y_train)\n",
    "    print(\"For\", unit, \" hidden unit/s\")\n",
    "    print(\"train_score:{}\".format(mlp.score(X_train, y_train)))\n",
    "    print(\"test_score:{}\".format(mlp.score(X_test, y_test)))\n",
    "    print()"
   ]
  },
  {
   "cell_type": "code",
   "execution_count": null,
   "metadata": {},
   "outputs": [],
   "source": [
    "#The effetcts of number of hidden layer\n",
    "layerSizes= [[10],[10,10],[10,10,10]]\n",
    "for size in layerSizes:\n",
    "    mlp = MLPClassifier(solver='lbfgs', random_state=0,\n",
    "                        hidden_layer_sizes=size)\n",
    "    mlp.fit(X_train, y_train)\n",
    "    print(\"For\",len(size),\"Hidden Layers(each layer has 10 units)\")\n",
    "    print(\"train_score:{}\".format(mlp.score(X_train, y_train)))\n",
    "    print(\"test_score:{}\".format(mlp.score(X_test, y_test)))\n",
    "    print()\n"
   ]
  },
  {
   "cell_type": "code",
   "execution_count": null,
   "metadata": {},
   "outputs": [],
   "source": [
    "# used default values to clearly analyze the effects of different parameters on the scores."
   ]
  },
  {
   "cell_type": "code",
   "execution_count": 26,
   "metadata": {},
   "outputs": [],
   "source": [
    "from sklearn.model_selection import GridSearchCV\n",
    "parameters = {'solver': ['lbfgs'], 'activation': ['logistic', 'tanh', 'relu'],\n",
    "              'alpha':[0.01, 0.1, 1.0, 5.0],\n",
    "              'hidden_layer_sizes':[[1],[10],[100],[1,1],[10,10],[100,100],[1,1,1],[10,10,10]],\n",
    "              'random_state':[0]}\n",
    "grid = GridSearchCV(MLPClassifier(), parameters,n_jobs=-1)"
   ]
  },
  {
   "cell_type": "code",
   "execution_count": null,
   "metadata": {},
   "outputs": [],
   "source": [
    "grid.fit(X_train, y_train)\n",
    "print('Best parameters:{}'.format(grid.best_params_))\n",
    "print(\"Best estimator:\\n{}\".format(grid.best_estimator_))\n",
    "print(\"Test set score: {:.2f}\".format(grid.score(X_test, y_test)))\n"
   ]
  },
  {
   "cell_type": "code",
   "execution_count": 23,
   "metadata": {},
   "outputs": [
    {
     "name": "stderr",
     "output_type": "stream",
     "text": [
      "/Users/mertagcakoyun/anaconda3/lib/python3.6/site-packages/sklearn/neural_network/_multilayer_perceptron.py:470: ConvergenceWarning: lbfgs failed to converge (status=1):\n",
      "STOP: TOTAL NO. of ITERATIONS REACHED LIMIT.\n",
      "\n",
      "Increase the number of iterations (max_iter) or scale the data as shown in:\n",
      "    https://scikit-learn.org/stable/modules/preprocessing.html\n",
      "  self.n_iter_ = _check_optimize_result(\"lbfgs\", opt_res, self.max_iter)\n"
     ]
    },
    {
     "name": "stdout",
     "output_type": "stream",
     "text": [
      "train_score:0.9998666666666667\n",
      "test_score:0.9743428571428572\n"
     ]
    }
   ],
   "source": [
    "mlp2 = MLPClassifier(solver='lbfgs', activation='relu', alpha=5.0, random_state=0,\n",
    "                        hidden_layer_sizes=[100,100,100]).fit(X_train, y_train)\n",
    "\n",
    "print(\"train_score:{}\".format(mlp2.score(X_train, y_train)))\n",
    "print(\"test_score:{}\".format(mlp2.score(X_test, y_test)))  "
   ]
  },
  {
   "cell_type": "code",
   "execution_count": 24,
   "metadata": {},
   "outputs": [
    {
     "name": "stderr",
     "output_type": "stream",
     "text": [
      "/Users/mertagcakoyun/anaconda3/lib/python3.6/site-packages/sklearn/neural_network/_multilayer_perceptron.py:470: ConvergenceWarning: lbfgs failed to converge (status=1):\n",
      "STOP: TOTAL NO. of ITERATIONS REACHED LIMIT.\n",
      "\n",
      "Increase the number of iterations (max_iter) or scale the data as shown in:\n",
      "    https://scikit-learn.org/stable/modules/preprocessing.html\n",
      "  self.n_iter_ = _check_optimize_result(\"lbfgs\", opt_res, self.max_iter)\n"
     ]
    },
    {
     "name": "stdout",
     "output_type": "stream",
     "text": [
      "train_score:1.0\n",
      "test_score:0.9784\n"
     ]
    }
   ],
   "source": [
    "mlp2 = MLPClassifier(solver='lbfgs', activation='relu', alpha=5.0, random_state=0,\n",
    "                        hidden_layer_sizes=[100]).fit(X_train, y_train)\n",
    "\n",
    "print(\"train_score:{}\".format(mlp2.score(X_train, y_train)))\n",
    "print(\"test_score:{}\".format(mlp2.score(X_test, y_test)))  "
   ]
  },
  {
   "cell_type": "code",
   "execution_count": null,
   "metadata": {},
   "outputs": [],
   "source": []
  }
 ],
 "metadata": {
  "kernelspec": {
   "display_name": "Python 3",
   "language": "python",
   "name": "python3"
  },
  "language_info": {
   "codemirror_mode": {
    "name": "ipython",
    "version": 3
   },
   "file_extension": ".py",
   "mimetype": "text/x-python",
   "name": "python",
   "nbconvert_exporter": "python",
   "pygments_lexer": "ipython3",
   "version": "3.6.6"
  }
 },
 "nbformat": 4,
 "nbformat_minor": 2
}
